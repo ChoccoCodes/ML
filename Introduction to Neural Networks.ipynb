{
  "nbformat": 4,
  "nbformat_minor": 0,
  "metadata": {
    "colab": {
      "provenance": [],
      "authorship_tag": "ABX9TyNnN59ZZeFQ+JFkDOwDExVi",
      "include_colab_link": true
    },
    "kernelspec": {
      "name": "python3",
      "display_name": "Python 3"
    },
    "language_info": {
      "name": "python"
    }
  },
  "cells": [
    {
      "cell_type": "markdown",
      "metadata": {
        "id": "view-in-github",
        "colab_type": "text"
      },
      "source": [
        "<a href=\"https://colab.research.google.com/github/ChoccoCodes/ML/blob/main/Introduction%20to%20Neural%20Networks.ipynb\" target=\"_parent\"><img src=\"https://colab.research.google.com/assets/colab-badge.svg\" alt=\"Open In Colab\"/></a>"
      ]
    },
    {
      "cell_type": "code",
      "execution_count": null,
      "metadata": {
        "id": "MDv1vWyhcByb"
      },
      "outputs": [],
      "source": [
        "import tensorflow as tf\n",
        "\n",
        "mnist = tf.keras.datasets.mnist\n",
        "(x_train, y_train), (x_test, y_test) = mnist.load_data()"
      ]
    },
    {
      "cell_type": "code",
      "source": [
        "x_train = tf.keras.utils.normalize(x_train, axis = 1) #Scales data between 0 and 1.\n",
        "x_test = tf.keras.utils.normalize(x_test, axis=1)"
      ],
      "metadata": {
        "id": "5LOQVYKYc1W6"
      },
      "execution_count": null,
      "outputs": []
    },
    {
      "cell_type": "code",
      "source": [
        "model = tf.keras.models.Sequential() #A basic feed forward model.\n",
        "\n",
        "model.add(tf.keras.layers.Flatten()) #takes our 28*28 and makes it 1*784\n",
        "\n",
        "model.add(tf.keras.layers.Dense(128, activation = tf.nn.relu))\n",
        "model.add(tf.keras.layers.Dense(128, activation = tf.nn.relu)) "
      ],
      "metadata": {
        "id": "zX4eRnJmdebf"
      },
      "execution_count": null,
      "outputs": []
    },
    {
      "cell_type": "code",
      "source": [
        "model.add(tf.keras.layers.Dense(10, activation= tf.nn.softmax))\n",
        "\n",
        "model.compile(optimizer = 'adam',#default optimizer for beginners.\n",
        "              loss = 'sparse_categorical_crossentropy',#how we calculate our error\n",
        "              metrics = ['accuracy']) #What to track."
      ],
      "metadata": {
        "id": "NCjHAUaienLT"
      },
      "execution_count": null,
      "outputs": []
    },
    {
      "cell_type": "code",
      "source": [
        "model.fit(x_train, y_train, epochs =10) #train the model.\n",
        "\n",
        "val_loss, val_acc = model.evaluate(x_test,y_test) #evaluate the out of sample data with model.\n",
        "print(val_loss) #model's loss(error)\n",
        "print(val_acc) #model's accuracy.\n",
        "\n",
        "model.save('epic_num_reader.model')"
      ],
      "metadata": {
        "colab": {
          "base_uri": "https://localhost:8080/"
        },
        "id": "h1_6a8G_fmok",
        "outputId": "28b58883-866a-4de5-de20-4113077184b3"
      },
      "execution_count": null,
      "outputs": [
        {
          "output_type": "stream",
          "name": "stdout",
          "text": [
            "Epoch 1/10\n",
            "1875/1875 [==============================] - 8s 4ms/step - loss: 0.2595 - accuracy: 0.9235\n",
            "Epoch 2/10\n",
            "1875/1875 [==============================] - 7s 4ms/step - loss: 0.1059 - accuracy: 0.9675\n",
            "Epoch 3/10\n",
            "1875/1875 [==============================] - 6s 3ms/step - loss: 0.0728 - accuracy: 0.9770\n",
            "Epoch 4/10\n",
            "1875/1875 [==============================] - 6s 3ms/step - loss: 0.0530 - accuracy: 0.9831\n",
            "Epoch 5/10\n",
            "1875/1875 [==============================] - 6s 3ms/step - loss: 0.0424 - accuracy: 0.9863\n",
            "Epoch 6/10\n",
            "1875/1875 [==============================] - 6s 3ms/step - loss: 0.0328 - accuracy: 0.9895\n",
            "Epoch 7/10\n",
            "1875/1875 [==============================] - 6s 3ms/step - loss: 0.0260 - accuracy: 0.9913\n",
            "Epoch 8/10\n",
            "1875/1875 [==============================] - 6s 3ms/step - loss: 0.0216 - accuracy: 0.9922\n",
            "Epoch 9/10\n",
            "1875/1875 [==============================] - 6s 3ms/step - loss: 0.0184 - accuracy: 0.9936\n",
            "Epoch 10/10\n",
            "1875/1875 [==============================] - 6s 3ms/step - loss: 0.0144 - accuracy: 0.9953\n",
            "313/313 [==============================] - 1s 2ms/step - loss: 0.1114 - accuracy: 0.9741\n",
            "0.1113683208823204\n",
            "0.9740999937057495\n"
          ]
        }
      ]
    },
    {
      "cell_type": "code",
      "source": [
        "new_model = tf.keras.models.load_model('epic_num_reader.model')\n",
        "\n",
        "predictions  = new_model.predict(x_test)\n",
        "print(predictions)"
      ],
      "metadata": {
        "colab": {
          "base_uri": "https://localhost:8080/"
        },
        "id": "v2ugxbnrhrSO",
        "outputId": "63a51703-6cc8-46c9-d6e9-663fb8d5de79"
      },
      "execution_count": null,
      "outputs": [
        {
          "output_type": "stream",
          "name": "stdout",
          "text": [
            "313/313 [==============================] - 1s 2ms/step\n",
            "[[8.20735971e-20 1.24938198e-14 1.75428475e-15 ... 9.99999940e-01\n",
            "  7.86276854e-20 1.27702531e-15]\n",
            " [5.53418219e-25 4.71421650e-15 9.99999940e-01 ... 1.20153824e-20\n",
            "  4.26675852e-24 6.25011573e-29]\n",
            " [6.18336220e-13 9.99999940e-01 4.33242719e-10 ... 4.00345046e-09\n",
            "  1.96915750e-09 3.91329926e-13]\n",
            " ...\n",
            " [1.25053341e-18 8.05757455e-15 1.34151255e-20 ... 2.49133093e-11\n",
            "  1.45540074e-13 8.70047177e-12]\n",
            " [2.60217114e-19 1.36918988e-17 4.09914988e-19 ... 7.01972816e-19\n",
            "  7.30447240e-08 8.04473838e-22]\n",
            " [1.87662819e-11 5.14465098e-13 9.73466707e-12 ... 2.42533697e-16\n",
            "  1.45778580e-11 3.42241053e-14]]\n"
          ]
        }
      ]
    },
    {
      "cell_type": "code",
      "source": [
        "import matplotlib.pyplot as plt\n",
        "plt.imshow(x_test[0],cmap = plt.cm.binary)\n",
        "plt.show()"
      ],
      "metadata": {
        "colab": {
          "base_uri": "https://localhost:8080/",
          "height": 265
        },
        "id": "KWUAOzhfjj86",
        "outputId": "60b85880-ebe0-4bfb-fd35-fd748f8ccbe2"
      },
      "execution_count": null,
      "outputs": [
        {
          "output_type": "display_data",
          "data": {
            "text/plain": [
              "<Figure size 432x288 with 1 Axes>"
            ],
            "image/png": "[encoded data removed]"
          },
          "metadata": {
            "needs_background": "light"
          }
        }
      ]
    },
    {
      "cell_type": "code",
      "source": [
        "import numpy as np\n",
        "print(np.argmax(predictions[0]))"
      ],
      "metadata": {
        "colab": {
          "base_uri": "https://localhost:8080/"
        },
        "id": "goaRrdSVj5RC",
        "outputId": "6f63c9b5-2491-4f68-b2fd-2a3e24bdf0e4"
      },
      "execution_count": null,
      "outputs": [
        {
          "output_type": "stream",
          "name": "stdout",
          "text": [
            "7\n"
          ]
        }
      ]
    }
  ]
}